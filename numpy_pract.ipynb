{
 "cells": [
  {
   "cell_type": "code",
   "execution_count": 1,
   "metadata": {},
   "outputs": [],
   "source": [
    "import numpy as np"
   ]
  },
  {
   "cell_type": "code",
   "execution_count": 2,
   "metadata": {},
   "outputs": [],
   "source": [
    "L = [1,2,3]"
   ]
  },
  {
   "cell_type": "code",
   "execution_count": 3,
   "metadata": {},
   "outputs": [],
   "source": [
    "A = np.array([1,2,3])"
   ]
  },
  {
   "cell_type": "code",
   "execution_count": 4,
   "metadata": {},
   "outputs": [
    {
     "name": "stdout",
     "output_type": "stream",
     "text": [
      "1\n",
      "2\n",
      "3\n"
     ]
    }
   ],
   "source": [
    "for e in A: print(e)"
   ]
  },
  {
   "cell_type": "code",
   "execution_count": 5,
   "metadata": {},
   "outputs": [],
   "source": [
    "L.append(1)"
   ]
  },
  {
   "cell_type": "code",
   "execution_count": 6,
   "metadata": {},
   "outputs": [],
   "source": [
    "L = L + [5]"
   ]
  },
  {
   "cell_type": "code",
   "execution_count": 7,
   "metadata": {},
   "outputs": [
    {
     "data": {
      "text/plain": [
       "array([2, 4, 6])"
      ]
     },
     "execution_count": 7,
     "metadata": {},
     "output_type": "execute_result"
    }
   ],
   "source": [
    "A + A"
   ]
  },
  {
   "cell_type": "code",
   "execution_count": 8,
   "metadata": {},
   "outputs": [
    {
     "data": {
      "text/plain": [
       "array([1, 2, 3])"
      ]
     },
     "execution_count": 8,
     "metadata": {},
     "output_type": "execute_result"
    }
   ],
   "source": [
    "A"
   ]
  },
  {
   "cell_type": "code",
   "execution_count": 9,
   "metadata": {},
   "outputs": [
    {
     "data": {
      "text/plain": [
       "array([2, 4, 6])"
      ]
     },
     "execution_count": 9,
     "metadata": {},
     "output_type": "execute_result"
    }
   ],
   "source": [
    "A*2"
   ]
  },
  {
   "cell_type": "code",
   "execution_count": 10,
   "metadata": {},
   "outputs": [
    {
     "data": {
      "text/plain": [
       "[1, 2, 3, 1, 5, 1, 2, 3, 1, 5]"
      ]
     },
     "execution_count": 10,
     "metadata": {},
     "output_type": "execute_result"
    }
   ],
   "source": [
    "L*2"
   ]
  },
  {
   "cell_type": "code",
   "execution_count": 11,
   "metadata": {},
   "outputs": [
    {
     "data": {
      "text/plain": [
       "array([1, 4, 9], dtype=int32)"
      ]
     },
     "execution_count": 11,
     "metadata": {},
     "output_type": "execute_result"
    }
   ],
   "source": [
    "A**2"
   ]
  },
  {
   "cell_type": "code",
   "execution_count": 12,
   "metadata": {},
   "outputs": [
    {
     "data": {
      "text/plain": [
       "array([1.        , 1.41421356, 1.73205081])"
      ]
     },
     "execution_count": 12,
     "metadata": {},
     "output_type": "execute_result"
    }
   ],
   "source": [
    "np.sqrt(A)"
   ]
  },
  {
   "cell_type": "code",
   "execution_count": 13,
   "metadata": {},
   "outputs": [
    {
     "data": {
      "text/plain": [
       "array([0.        , 0.69314718, 1.09861229])"
      ]
     },
     "execution_count": 13,
     "metadata": {},
     "output_type": "execute_result"
    }
   ],
   "source": [
    "np.log(A)"
   ]
  },
  {
   "cell_type": "code",
   "execution_count": 14,
   "metadata": {
    "scrolled": true
   },
   "outputs": [
    {
     "data": {
      "text/plain": [
       "array([ 2.71828183,  7.3890561 , 20.08553692])"
      ]
     },
     "execution_count": 14,
     "metadata": {},
     "output_type": "execute_result"
    }
   ],
   "source": [
    "np.exp(A)"
   ]
  },
  {
   "cell_type": "code",
   "execution_count": 15,
   "metadata": {},
   "outputs": [
    {
     "data": {
      "text/plain": [
       "array([ 2.,  7., 20.])"
      ]
     },
     "execution_count": 15,
     "metadata": {},
     "output_type": "execute_result"
    }
   ],
   "source": [
    "np.floor(np.exp(A))"
   ]
  },
  {
   "cell_type": "code",
   "execution_count": 65,
   "metadata": {},
   "outputs": [],
   "source": [
    "a = np.array([1,0])"
   ]
  },
  {
   "cell_type": "code",
   "execution_count": 66,
   "metadata": {},
   "outputs": [],
   "source": [
    "b = np.array([0,1])"
   ]
  },
  {
   "cell_type": "code",
   "execution_count": 40,
   "metadata": {},
   "outputs": [
    {
     "data": {
      "text/plain": [
       "11"
      ]
     },
     "execution_count": 40,
     "metadata": {},
     "output_type": "execute_result"
    }
   ],
   "source": [
    "np.dot(a,b)"
   ]
  },
  {
   "cell_type": "code",
   "execution_count": 41,
   "metadata": {},
   "outputs": [],
   "source": [
    "dot = 0; k = [1,2]; l=[3,4]"
   ]
  },
  {
   "cell_type": "code",
   "execution_count": 42,
   "metadata": {},
   "outputs": [],
   "source": [
    "for e,f in zip(k,l): dot += e*f"
   ]
  },
  {
   "cell_type": "code",
   "execution_count": 43,
   "metadata": {},
   "outputs": [
    {
     "data": {
      "text/plain": [
       "11"
      ]
     },
     "execution_count": 43,
     "metadata": {},
     "output_type": "execute_result"
    }
   ],
   "source": [
    "dot"
   ]
  },
  {
   "cell_type": "code",
   "execution_count": 46,
   "metadata": {},
   "outputs": [
    {
     "data": {
      "text/plain": [
       "11"
      ]
     },
     "execution_count": 46,
     "metadata": {},
     "output_type": "execute_result"
    }
   ],
   "source": [
    "(a*b).sum()"
   ]
  },
  {
   "cell_type": "code",
   "execution_count": 47,
   "metadata": {},
   "outputs": [
    {
     "data": {
      "text/plain": [
       "11"
      ]
     },
     "execution_count": 47,
     "metadata": {},
     "output_type": "execute_result"
    }
   ],
   "source": [
    "np.sum(a*b)"
   ]
  },
  {
   "cell_type": "code",
   "execution_count": 49,
   "metadata": {},
   "outputs": [
    {
     "data": {
      "text/plain": [
       "11"
      ]
     },
     "execution_count": 49,
     "metadata": {},
     "output_type": "execute_result"
    }
   ],
   "source": [
    "np.dot(a,b)"
   ]
  },
  {
   "cell_type": "code",
   "execution_count": 50,
   "metadata": {},
   "outputs": [
    {
     "data": {
      "text/plain": [
       "11"
      ]
     },
     "execution_count": 50,
     "metadata": {},
     "output_type": "execute_result"
    }
   ],
   "source": [
    "a.dot(b)"
   ]
  },
  {
   "cell_type": "code",
   "execution_count": 51,
   "metadata": {},
   "outputs": [
    {
     "data": {
      "text/plain": [
       "11"
      ]
     },
     "execution_count": 51,
     "metadata": {},
     "output_type": "execute_result"
    }
   ],
   "source": [
    "b.dot(a)"
   ]
  },
  {
   "cell_type": "code",
   "execution_count": 52,
   "metadata": {},
   "outputs": [],
   "source": [
    "amag = np.sqrt(np.sum(a*a))"
   ]
  },
  {
   "cell_type": "code",
   "execution_count": 53,
   "metadata": {},
   "outputs": [
    {
     "data": {
      "text/plain": [
       "2.23606797749979"
      ]
     },
     "execution_count": 53,
     "metadata": {},
     "output_type": "execute_result"
    }
   ],
   "source": [
    "amag"
   ]
  },
  {
   "cell_type": "code",
   "execution_count": 55,
   "metadata": {},
   "outputs": [],
   "source": [
    "amag = np.linalg.norm(a)"
   ]
  },
  {
   "cell_type": "code",
   "execution_count": 57,
   "metadata": {},
   "outputs": [
    {
     "data": {
      "text/plain": [
       "2.23606797749979"
      ]
     },
     "execution_count": 57,
     "metadata": {},
     "output_type": "execute_result"
    }
   ],
   "source": [
    "amag"
   ]
  },
  {
   "cell_type": "code",
   "execution_count": 67,
   "metadata": {},
   "outputs": [],
   "source": [
    "cosangle = a.dot(b)/(np.linalg.norm(a)*np.linalg.norm(b))"
   ]
  },
  {
   "cell_type": "code",
   "execution_count": 68,
   "metadata": {},
   "outputs": [
    {
     "data": {
      "text/plain": [
       "0.0"
      ]
     },
     "execution_count": 68,
     "metadata": {},
     "output_type": "execute_result"
    }
   ],
   "source": [
    "cosangle"
   ]
  },
  {
   "cell_type": "code",
   "execution_count": 69,
   "metadata": {},
   "outputs": [
    {
     "data": {
      "text/plain": [
       "1.5707963267948966"
      ]
     },
     "execution_count": 69,
     "metadata": {},
     "output_type": "execute_result"
    }
   ],
   "source": [
    "np.arccos(cosangle) # It is in radiant (pai/2)"
   ]
  },
  {
   "cell_type": "code",
   "execution_count": 96,
   "metadata": {},
   "outputs": [],
   "source": [
    "## Dot product example and comparison of numpy and python list function"
   ]
  },
  {
   "cell_type": "code",
   "execution_count": 71,
   "metadata": {},
   "outputs": [],
   "source": [
    "from datetime import datetime"
   ]
  },
  {
   "cell_type": "code",
   "execution_count": 79,
   "metadata": {},
   "outputs": [],
   "source": [
    "def slow_dot(a, b):\n",
    "    dot = 0 \n",
    "    for c, d in zip(a,b):\n",
    "        dot =+ c*d\n",
    "    return dot"
   ]
  },
  {
   "cell_type": "code",
   "execution_count": 89,
   "metadata": {},
   "outputs": [],
   "source": [
    "a = list(range(100))"
   ]
  },
  {
   "cell_type": "code",
   "execution_count": 90,
   "metadata": {},
   "outputs": [],
   "source": [
    "b = list(range(100))"
   ]
  },
  {
   "cell_type": "code",
   "execution_count": 91,
   "metadata": {},
   "outputs": [
    {
     "name": "stdout",
     "output_type": "stream",
     "text": [
      "12.2 µs ± 1.27 µs per loop (mean ± std. dev. of 7 runs, 100000 loops each)\n"
     ]
    }
   ],
   "source": [
    "%timeit slow_dot(a,b)"
   ]
  },
  {
   "cell_type": "code",
   "execution_count": 92,
   "metadata": {},
   "outputs": [],
   "source": [
    "def fast_dot(a,b):\n",
    "    return a.dot(b)"
   ]
  },
  {
   "cell_type": "code",
   "execution_count": 93,
   "metadata": {},
   "outputs": [],
   "source": [
    "a = np.array(np.random.randint(100))"
   ]
  },
  {
   "cell_type": "code",
   "execution_count": 94,
   "metadata": {},
   "outputs": [],
   "source": [
    "b = np.array(np.random.randint(100))"
   ]
  },
  {
   "cell_type": "code",
   "execution_count": 95,
   "metadata": {},
   "outputs": [
    {
     "name": "stdout",
     "output_type": "stream",
     "text": [
      "1.16 µs ± 48.4 ns per loop (mean ± std. dev. of 7 runs, 1000000 loops each)\n"
     ]
    }
   ],
   "source": [
    "%timeit fast_dot(a,b)"
   ]
  },
  {
   "cell_type": "markdown",
   "metadata": {},
   "source": [
    "## As we can see Numpy is approximately 10 times faster "
   ]
  },
  {
   "cell_type": "code",
   "execution_count": 2,
   "metadata": {},
   "outputs": [],
   "source": [
    "import numpy as np\n",
    "M = np.array([[1,2], [3,4]])"
   ]
  },
  {
   "cell_type": "code",
   "execution_count": 3,
   "metadata": {},
   "outputs": [
    {
     "data": {
      "text/plain": [
       "2"
      ]
     },
     "execution_count": 3,
     "metadata": {},
     "output_type": "execute_result"
    }
   ],
   "source": [
    "M[0][1]"
   ]
  },
  {
   "cell_type": "code",
   "execution_count": 4,
   "metadata": {},
   "outputs": [
    {
     "data": {
      "text/plain": [
       "2"
      ]
     },
     "execution_count": 4,
     "metadata": {},
     "output_type": "execute_result"
    }
   ],
   "source": [
    "M[0,1]"
   ]
  },
  {
   "cell_type": "code",
   "execution_count": 7,
   "metadata": {},
   "outputs": [],
   "source": [
    "M = np.matrix([[1,2],[3,4]])"
   ]
  },
  {
   "cell_type": "code",
   "execution_count": 8,
   "metadata": {},
   "outputs": [
    {
     "data": {
      "text/plain": [
       "matrix([[1, 2]])"
      ]
     },
     "execution_count": 8,
     "metadata": {},
     "output_type": "execute_result"
    }
   ],
   "source": [
    "M[0]"
   ]
  },
  {
   "cell_type": "code",
   "execution_count": 11,
   "metadata": {},
   "outputs": [
    {
     "data": {
      "text/plain": [
       "matrix([[1, 2]])"
      ]
     },
     "execution_count": 11,
     "metadata": {},
     "output_type": "execute_result"
    }
   ],
   "source": [
    "M[0][0]"
   ]
  },
  {
   "cell_type": "code",
   "execution_count": 10,
   "metadata": {},
   "outputs": [
    {
     "data": {
      "text/plain": [
       "1"
      ]
     },
     "execution_count": 10,
     "metadata": {},
     "output_type": "execute_result"
    }
   ],
   "source": [
    "M[0,0]"
   ]
  },
  {
   "cell_type": "code",
   "execution_count": 12,
   "metadata": {},
   "outputs": [],
   "source": [
    "A = np.array(M)"
   ]
  },
  {
   "cell_type": "code",
   "execution_count": 13,
   "metadata": {},
   "outputs": [
    {
     "data": {
      "text/plain": [
       "1"
      ]
     },
     "execution_count": 13,
     "metadata": {},
     "output_type": "execute_result"
    }
   ],
   "source": [
    "A[0][0]"
   ]
  },
  {
   "cell_type": "code",
   "execution_count": 14,
   "metadata": {},
   "outputs": [
    {
     "data": {
      "text/plain": [
       "1"
      ]
     },
     "execution_count": 14,
     "metadata": {},
     "output_type": "execute_result"
    }
   ],
   "source": [
    "A[0,0]"
   ]
  },
  {
   "cell_type": "code",
   "execution_count": 15,
   "metadata": {},
   "outputs": [
    {
     "data": {
      "text/plain": [
       "array([[1, 3],\n",
       "       [2, 4]])"
      ]
     },
     "execution_count": 15,
     "metadata": {},
     "output_type": "execute_result"
    }
   ],
   "source": [
    "A.T"
   ]
  },
  {
   "cell_type": "code",
   "execution_count": 16,
   "metadata": {},
   "outputs": [
    {
     "data": {
      "text/plain": [
       "matrix([[1, 3],\n",
       "        [2, 4]])"
      ]
     },
     "execution_count": 16,
     "metadata": {},
     "output_type": "execute_result"
    }
   ],
   "source": [
    "M.T"
   ]
  },
  {
   "cell_type": "code",
   "execution_count": 18,
   "metadata": {},
   "outputs": [
    {
     "data": {
      "text/plain": [
       "array([0, 0, 0, 0, 0, 0, 0, 0, 0, 0])"
      ]
     },
     "execution_count": 18,
     "metadata": {},
     "output_type": "execute_result"
    }
   ],
   "source": [
    "np.array([0]*10)"
   ]
  },
  {
   "cell_type": "code",
   "execution_count": 19,
   "metadata": {},
   "outputs": [
    {
     "data": {
      "text/plain": [
       "array([0., 0., 0., 0., 0., 0., 0., 0., 0., 0.])"
      ]
     },
     "execution_count": 19,
     "metadata": {},
     "output_type": "execute_result"
    }
   ],
   "source": [
    "np.zeros(10)"
   ]
  },
  {
   "cell_type": "code",
   "execution_count": 24,
   "metadata": {},
   "outputs": [
    {
     "data": {
      "text/plain": [
       "array([[[0., 0.]]])"
      ]
     },
     "execution_count": 24,
     "metadata": {},
     "output_type": "execute_result"
    }
   ],
   "source": [
    "np.zeros((1,1,2))"
   ]
  },
  {
   "cell_type": "code",
   "execution_count": 25,
   "metadata": {},
   "outputs": [
    {
     "data": {
      "text/plain": [
       "array([[0., 0., 0., 0., 0., 0., 0., 0., 0., 0.],\n",
       "       [0., 0., 0., 0., 0., 0., 0., 0., 0., 0.],\n",
       "       [0., 0., 0., 0., 0., 0., 0., 0., 0., 0.],\n",
       "       [0., 0., 0., 0., 0., 0., 0., 0., 0., 0.],\n",
       "       [0., 0., 0., 0., 0., 0., 0., 0., 0., 0.],\n",
       "       [0., 0., 0., 0., 0., 0., 0., 0., 0., 0.],\n",
       "       [0., 0., 0., 0., 0., 0., 0., 0., 0., 0.],\n",
       "       [0., 0., 0., 0., 0., 0., 0., 0., 0., 0.],\n",
       "       [0., 0., 0., 0., 0., 0., 0., 0., 0., 0.],\n",
       "       [0., 0., 0., 0., 0., 0., 0., 0., 0., 0.]])"
      ]
     },
     "execution_count": 25,
     "metadata": {},
     "output_type": "execute_result"
    }
   ],
   "source": [
    "np.zeros((10,10))"
   ]
  },
  {
   "cell_type": "code",
   "execution_count": 26,
   "metadata": {},
   "outputs": [
    {
     "data": {
      "text/plain": [
       "array([1., 1., 1., 1., 1., 1., 1., 1., 1., 1.])"
      ]
     },
     "execution_count": 26,
     "metadata": {},
     "output_type": "execute_result"
    }
   ],
   "source": [
    "np.ones(10)"
   ]
  },
  {
   "cell_type": "code",
   "execution_count": 27,
   "metadata": {},
   "outputs": [
    {
     "data": {
      "text/plain": [
       "array([0.05292544, 0.07101248, 0.46763016, 0.51585798, 0.67046228,\n",
       "       0.33622727, 0.67604334, 0.86374407, 0.64777695, 0.20277141])"
      ]
     },
     "execution_count": 27,
     "metadata": {},
     "output_type": "execute_result"
    }
   ],
   "source": [
    "np.random.random(10)"
   ]
  },
  {
   "cell_type": "code",
   "execution_count": 29,
   "metadata": {},
   "outputs": [
    {
     "data": {
      "text/plain": [
       "array([[0.11020876, 0.39518587, 0.33247225, 0.6501349 , 0.00974722,\n",
       "        0.95411243, 0.99122364, 0.53202145, 0.48342393, 0.99840053],\n",
       "       [0.5061127 , 0.09421543, 0.70212733, 0.58619282, 0.4837725 ,\n",
       "        0.25775481, 0.88026589, 0.29060458, 0.7393046 , 0.50892163],\n",
       "       [0.57779112, 0.83617291, 0.41782077, 0.96640016, 0.71687923,\n",
       "        0.65928184, 0.09676119, 0.60459043, 0.11353212, 0.55293491],\n",
       "       [0.14396082, 0.95501762, 0.99490097, 0.91372575, 0.55425136,\n",
       "        0.34334408, 0.9667448 , 0.50053685, 0.05729069, 0.07617157],\n",
       "       [0.60524839, 0.02704272, 0.50239407, 0.60944942, 0.61810038,\n",
       "        0.302902  , 0.64906463, 0.74539516, 0.27517568, 0.33384196],\n",
       "       [0.7801444 , 0.31467271, 0.55544782, 0.56628261, 0.37374022,\n",
       "        0.03106553, 0.55386632, 0.51032621, 0.55066675, 0.2287297 ],\n",
       "       [0.74267316, 0.60176475, 0.0603174 , 0.69906928, 0.65193947,\n",
       "        0.66777833, 0.10200996, 0.57743295, 0.19629575, 0.39853842],\n",
       "       [0.13304246, 0.95289279, 0.42019877, 0.15213951, 0.96035623,\n",
       "        0.33998182, 0.27289431, 0.23759813, 0.04240033, 0.23363416],\n",
       "       [0.50866936, 0.09079545, 0.28049386, 0.61691632, 0.47736161,\n",
       "        0.45331116, 0.91644574, 0.68257574, 0.95441922, 0.02998105],\n",
       "       [0.42468862, 0.65783748, 0.79690559, 0.04221312, 0.18958097,\n",
       "        0.29896113, 0.8608288 , 0.49376042, 0.68429217, 0.48530968]])"
      ]
     },
     "execution_count": 29,
     "metadata": {},
     "output_type": "execute_result"
    }
   ],
   "source": [
    "np.random.random((10,10))"
   ]
  },
  {
   "cell_type": "code",
   "execution_count": 30,
   "metadata": {},
   "outputs": [],
   "source": [
    "G = np.random.randn(10)"
   ]
  },
  {
   "cell_type": "code",
   "execution_count": 31,
   "metadata": {},
   "outputs": [
    {
     "data": {
      "text/plain": [
       "array([-0.41689482, -0.11862028, -0.23676492,  1.63942843,  0.84127395,\n",
       "        0.36097427, -2.02333672, -0.6766474 , -0.69955188, -0.33762046])"
      ]
     },
     "execution_count": 31,
     "metadata": {},
     "output_type": "execute_result"
    }
   ],
   "source": [
    "G"
   ]
  },
  {
   "cell_type": "code",
   "execution_count": 32,
   "metadata": {},
   "outputs": [
    {
     "data": {
      "text/plain": [
       "array([[-2.33537723e-01, -1.45451175e+00,  1.52330077e-01,\n",
       "        -3.39862548e-01,  1.47272882e+00, -2.09194169e-01,\n",
       "         1.43638839e+00, -1.90261380e-01,  5.46945559e-01,\n",
       "         2.05300581e-01],\n",
       "       [ 2.00125655e+00,  3.18942051e-01, -7.61147700e-01,\n",
       "         2.23327447e+00, -8.74274895e-01,  1.03866274e+00,\n",
       "        -9.34536759e-01,  8.13593726e-01,  3.62944444e-01,\n",
       "        -6.58135171e-01],\n",
       "       [-3.06874188e-01, -1.54835452e-01,  1.04326592e+00,\n",
       "         1.06420171e+00, -6.77826397e-01,  1.91176424e-01,\n",
       "         2.91866009e-01, -1.47540586e+00,  6.42965298e-01,\n",
       "        -8.72776526e-02],\n",
       "       [ 3.47335058e-01,  3.30767472e-01,  2.44202072e+00,\n",
       "        -1.65084194e+00, -9.53035791e-01,  1.56585878e-02,\n",
       "         7.30657255e-02,  3.93015611e-01, -1.25933802e+00,\n",
       "        -3.91357255e-01],\n",
       "       [ 1.27031283e+00,  2.09582355e+00,  1.91165199e-01,\n",
       "         2.65892479e-01,  1.29134779e+00, -4.26952031e-04,\n",
       "         2.80430353e-01,  8.24098148e-02, -3.31716316e-01,\n",
       "        -5.58873406e-01],\n",
       "       [-9.60452753e-01, -9.84886582e-01,  1.67810814e-01,\n",
       "        -4.48994907e-01, -7.73116227e-01, -1.24087855e+00,\n",
       "        -1.32281368e-01, -2.18559929e-01, -5.58556792e-01,\n",
       "         4.10694894e-01],\n",
       "       [ 4.33008865e-01,  1.48726669e+00,  7.53564227e-01,\n",
       "        -1.48649917e+00, -1.53775687e+00, -1.13529165e+00,\n",
       "         3.88484627e-01, -5.81228862e-01,  4.87156517e-01,\n",
       "        -1.72191921e-01],\n",
       "       [-6.71606955e-01,  3.02809563e-01,  7.41306523e-01,\n",
       "         1.07121624e+00, -7.76648203e-01,  4.05876925e-01,\n",
       "        -2.09125109e-01, -6.32507709e-02, -6.43909027e-01,\n",
       "        -1.95809280e-01],\n",
       "       [ 7.06256373e-01, -7.80201566e-01,  6.26605404e-01,\n",
       "         1.00565797e+00,  7.21527481e-01,  8.69466878e-01,\n",
       "        -4.35389525e-01, -4.75832964e-01, -8.29714542e-01,\n",
       "        -2.29306717e-01],\n",
       "       [-1.18219743e+00, -1.12144629e+00, -1.78476214e+00,\n",
       "        -2.28987981e-02,  2.59104967e-01, -1.09765487e+00,\n",
       "        -2.52488118e-01,  6.10982569e-01,  7.45365518e-01,\n",
       "         6.56700811e-02]])"
      ]
     },
     "execution_count": 32,
     "metadata": {},
     "output_type": "execute_result"
    }
   ],
   "source": [
    "np.random.randn(10,10)"
   ]
  },
  {
   "cell_type": "code",
   "execution_count": 33,
   "metadata": {},
   "outputs": [
    {
     "data": {
      "text/plain": [
       "-0.16677598363502089"
      ]
     },
     "execution_count": 33,
     "metadata": {},
     "output_type": "execute_result"
    }
   ],
   "source": [
    "G.mean()"
   ]
  },
  {
   "cell_type": "code",
   "execution_count": 34,
   "metadata": {},
   "outputs": [
    {
     "data": {
      "text/plain": [
       "0.8646660847197781"
      ]
     },
     "execution_count": 34,
     "metadata": {},
     "output_type": "execute_result"
    }
   ],
   "source": [
    "G.var()"
   ]
  },
  {
   "cell_type": "code",
   "execution_count": 35,
   "metadata": {},
   "outputs": [],
   "source": [
    "A = np.array([[1,2], [3,4]])"
   ]
  },
  {
   "cell_type": "code",
   "execution_count": 37,
   "metadata": {},
   "outputs": [],
   "source": [
    "Ainv = np.linalg.inv(A)"
   ]
  },
  {
   "cell_type": "code",
   "execution_count": 38,
   "metadata": {},
   "outputs": [
    {
     "data": {
      "text/plain": [
       "array([[1.00000000e+00, 1.11022302e-16],\n",
       "       [0.00000000e+00, 1.00000000e+00]])"
      ]
     },
     "execution_count": 38,
     "metadata": {},
     "output_type": "execute_result"
    }
   ],
   "source": [
    "A.dot(Ainv)"
   ]
  },
  {
   "cell_type": "code",
   "execution_count": 39,
   "metadata": {},
   "outputs": [
    {
     "data": {
      "text/plain": [
       "array([[1.0000000e+00, 4.4408921e-16],\n",
       "       [0.0000000e+00, 1.0000000e+00]])"
      ]
     },
     "execution_count": 39,
     "metadata": {},
     "output_type": "execute_result"
    }
   ],
   "source": [
    "Ainv.dot(A)"
   ]
  },
  {
   "cell_type": "code",
   "execution_count": 40,
   "metadata": {},
   "outputs": [
    {
     "data": {
      "text/plain": [
       "-2.0000000000000004"
      ]
     },
     "execution_count": 40,
     "metadata": {},
     "output_type": "execute_result"
    }
   ],
   "source": [
    "np.linalg.det(A)"
   ]
  },
  {
   "cell_type": "code",
   "execution_count": 41,
   "metadata": {},
   "outputs": [
    {
     "data": {
      "text/plain": [
       "array([1, 4])"
      ]
     },
     "execution_count": 41,
     "metadata": {},
     "output_type": "execute_result"
    }
   ],
   "source": [
    "np.diag(A)"
   ]
  },
  {
   "cell_type": "code",
   "execution_count": 43,
   "metadata": {},
   "outputs": [
    {
     "data": {
      "text/plain": [
       "array([[1, 0, 0],\n",
       "       [0, 2, 0],\n",
       "       [0, 0, 3]])"
      ]
     },
     "execution_count": 43,
     "metadata": {},
     "output_type": "execute_result"
    }
   ],
   "source": [
    "np.diag([1,2,3])"
   ]
  },
  {
   "cell_type": "code",
   "execution_count": 44,
   "metadata": {},
   "outputs": [
    {
     "data": {
      "text/plain": [
       "array([1, 4])"
      ]
     },
     "execution_count": 44,
     "metadata": {},
     "output_type": "execute_result"
    }
   ],
   "source": [
    "np.diag([[1,2],[3,4]])"
   ]
  },
  {
   "cell_type": "code",
   "execution_count": 45,
   "metadata": {},
   "outputs": [],
   "source": [
    "a = np.array([1,2])"
   ]
  },
  {
   "cell_type": "code",
   "execution_count": 46,
   "metadata": {},
   "outputs": [],
   "source": [
    "b = np.array([3,4])"
   ]
  },
  {
   "cell_type": "code",
   "execution_count": 47,
   "metadata": {},
   "outputs": [
    {
     "data": {
      "text/plain": [
       "array([[3, 4],\n",
       "       [6, 8]])"
      ]
     },
     "execution_count": 47,
     "metadata": {},
     "output_type": "execute_result"
    }
   ],
   "source": [
    "np.outer(a,b)"
   ]
  },
  {
   "cell_type": "code",
   "execution_count": 48,
   "metadata": {},
   "outputs": [
    {
     "data": {
      "text/plain": [
       "11"
      ]
     },
     "execution_count": 48,
     "metadata": {},
     "output_type": "execute_result"
    }
   ],
   "source": [
    "np.inner(a,b)"
   ]
  },
  {
   "cell_type": "code",
   "execution_count": 49,
   "metadata": {},
   "outputs": [
    {
     "data": {
      "text/plain": [
       "11"
      ]
     },
     "execution_count": 49,
     "metadata": {},
     "output_type": "execute_result"
    }
   ],
   "source": [
    "a.dot(b)"
   ]
  },
  {
   "cell_type": "code",
   "execution_count": 52,
   "metadata": {},
   "outputs": [
    {
     "data": {
      "text/plain": [
       "5"
      ]
     },
     "execution_count": 52,
     "metadata": {},
     "output_type": "execute_result"
    }
   ],
   "source": [
    "np.diag(A).sum()"
   ]
  },
  {
   "cell_type": "code",
   "execution_count": 53,
   "metadata": {},
   "outputs": [
    {
     "data": {
      "text/plain": [
       "5"
      ]
     },
     "execution_count": 53,
     "metadata": {},
     "output_type": "execute_result"
    }
   ],
   "source": [
    "np.trace(A)"
   ]
  },
  {
   "cell_type": "code",
   "execution_count": 57,
   "metadata": {},
   "outputs": [],
   "source": [
    "X = np.random.randn(100,3)"
   ]
  },
  {
   "cell_type": "code",
   "execution_count": 58,
   "metadata": {},
   "outputs": [
    {
     "data": {
      "text/plain": [
       "array([[ 0.8405849 , -0.6686932 , -1.28643092],\n",
       "       [-0.48793077,  1.40725623, -0.16322965],\n",
       "       [ 0.61515691, -1.89633663, -2.43948352],\n",
       "       [-0.79853431, -1.14787083, -0.54697406],\n",
       "       [-1.58478019,  1.22429423, -0.50681401],\n",
       "       [ 0.37256637, -0.78738219, -0.74886634],\n",
       "       [-0.9696492 ,  1.86722832, -1.57255066],\n",
       "       [ 1.71774737, -0.4305711 , -1.46755787],\n",
       "       [-0.2147326 ,  1.07919699, -0.51179169],\n",
       "       [ 0.55680477, -0.39386467,  1.04200878],\n",
       "       [-0.53158509,  0.64002774, -1.00691108],\n",
       "       [ 0.83367862,  1.08849242, -0.13090064],\n",
       "       [-0.70043058, -1.1755053 , -0.12803209],\n",
       "       [ 1.2928966 ,  1.13711856, -0.84006282],\n",
       "       [ 0.48127158, -0.65713504,  0.74042113],\n",
       "       [ 0.2619297 , -0.58009268,  2.55800708],\n",
       "       [ 0.47063236, -0.92363157, -0.30742648],\n",
       "       [ 0.46353732,  0.49750815,  0.95988682],\n",
       "       [-1.62888174, -0.93064827,  0.74986652],\n",
       "       [ 0.42470239,  0.16967695,  1.30249242],\n",
       "       [ 2.12060286, -0.67344943, -0.53024791],\n",
       "       [ 0.99683358,  0.04959539, -1.62305083],\n",
       "       [ 0.08596952,  0.3015098 , -0.03039625],\n",
       "       [-0.66151053,  0.50570504, -1.5187148 ],\n",
       "       [ 0.08080526, -0.16305151,  0.03479251],\n",
       "       [-1.67998844, -0.4204756 , -0.37810919],\n",
       "       [-0.30424359,  0.72001969, -0.63083243],\n",
       "       [ 0.06955744, -0.05268147, -0.01397058],\n",
       "       [-0.29250209,  1.30814341, -0.19481835],\n",
       "       [-0.87142343,  0.1456975 , -0.36546625],\n",
       "       [-2.03854248,  0.44886465, -0.19093128],\n",
       "       [-0.40900288,  1.12630387,  1.10855973],\n",
       "       [ 0.00574551, -0.31985411, -0.63651376],\n",
       "       [-0.7638277 ,  0.43839788,  0.49473101],\n",
       "       [ 0.99084361, -0.31973861,  0.49209131],\n",
       "       [-0.0828774 ,  1.19648521,  0.96216206],\n",
       "       [ 0.18604513,  0.07542573, -0.04672646],\n",
       "       [-0.28592204,  0.66749302,  0.6310007 ],\n",
       "       [-0.17946264,  0.36870821, -0.90364667],\n",
       "       [ 1.25117152, -2.47438175,  0.06146649],\n",
       "       [-2.13458954,  0.34236758,  1.56943657],\n",
       "       [-0.22204638, -1.30760149,  0.51224559],\n",
       "       [-0.2119191 , -0.29469203,  0.17836094],\n",
       "       [ 0.24972956, -0.70226898, -0.90635569],\n",
       "       [ 0.16174396, -0.71763382, -0.75068107],\n",
       "       [ 0.48063518, -0.35273346, -1.45714535],\n",
       "       [ 0.56098891,  0.20464198, -1.86284677],\n",
       "       [ 0.56633847, -0.00821115, -0.81461403],\n",
       "       [-1.01643298,  1.31853047, -1.22581167],\n",
       "       [ 0.2806831 ,  0.61843375, -0.91498081],\n",
       "       [ 0.95780043, -0.84843515, -0.80066003],\n",
       "       [-2.10515638,  1.37284793, -0.29688555],\n",
       "       [-0.42261052,  1.43261794,  1.57967951],\n",
       "       [-0.1091905 , -0.15232828,  1.2485128 ],\n",
       "       [-0.24473822,  1.26870596,  0.65482306],\n",
       "       [-0.84165314,  0.93556324, -0.45437795],\n",
       "       [ 0.26487139,  0.47709242,  0.48544151],\n",
       "       [-2.66572611, -0.90909633,  1.43974994],\n",
       "       [ 0.11248145, -1.20079501,  0.88035953],\n",
       "       [ 0.13165406, -0.90573152,  0.85690389],\n",
       "       [ 0.52065662,  0.82667513, -0.46978715],\n",
       "       [-0.1653986 ,  0.40424503,  1.01762374],\n",
       "       [-0.72741655,  0.05498413, -0.08858235],\n",
       "       [-0.43988601, -1.65463185, -0.18242187],\n",
       "       [ 0.02184788, -0.01609328, -1.16386783],\n",
       "       [ 0.94162249,  1.44289275,  0.71911133],\n",
       "       [-0.60110286,  0.68714244,  0.25493992],\n",
       "       [-0.3946103 ,  0.26312393,  0.87252091],\n",
       "       [ 2.33995062,  1.06669815,  0.75864331],\n",
       "       [-1.26538473,  0.54810766, -0.91556125],\n",
       "       [-0.16780432,  0.0699484 , -0.65133289],\n",
       "       [ 0.77356851,  0.8441525 ,  0.57138278],\n",
       "       [ 1.2870858 ,  0.1273329 ,  0.79712349],\n",
       "       [ 1.65781766,  0.94651073, -1.28442818],\n",
       "       [ 1.47432185,  0.01724526, -1.86735219],\n",
       "       [ 1.2896011 ,  0.6022786 , -0.64856696],\n",
       "       [-0.25208011, -1.26574401,  0.87068357],\n",
       "       [-0.9919754 , -0.24745053,  2.10099113],\n",
       "       [-0.25535022, -0.34439864, -1.93104443],\n",
       "       [ 0.43408474, -0.12904609,  0.62459203],\n",
       "       [ 0.65344413,  0.32101843, -0.94302868],\n",
       "       [ 0.15790782,  1.88702227, -0.36826125],\n",
       "       [-1.04053595,  0.13686003, -0.1523438 ],\n",
       "       [ 0.83272867, -1.34452791,  0.03903019],\n",
       "       [ 0.39801509,  0.44021917,  0.62439087],\n",
       "       [-1.70456578, -0.71953234,  2.3430911 ],\n",
       "       [-1.56914959,  0.72568862, -1.61256392],\n",
       "       [ 2.52715317, -0.27969386,  0.86281796],\n",
       "       [ 0.07187165,  0.91862423,  0.19136332],\n",
       "       [-1.12333607, -0.28314424, -2.44704326],\n",
       "       [ 0.33316558,  1.34553993,  0.60146146],\n",
       "       [-1.28891833, -0.57456021,  0.37305638],\n",
       "       [-2.0132638 ,  0.28416012,  0.44510977],\n",
       "       [-0.2422605 , -0.56602935, -0.16264209],\n",
       "       [-0.14094121, -1.18727161, -3.14834339],\n",
       "       [-1.4591392 ,  0.21558423, -1.06893261],\n",
       "       [ 0.98700112,  0.68819542,  0.45603537],\n",
       "       [ 0.02004783, -1.51758043, -1.6725772 ],\n",
       "       [ 0.94642017,  0.25343318,  0.64446511],\n",
       "       [ 0.98729329,  2.56285105,  0.43013017]])"
      ]
     },
     "execution_count": 58,
     "metadata": {},
     "output_type": "execute_result"
    }
   ],
   "source": [
    "X"
   ]
  },
  {
   "cell_type": "code",
   "execution_count": 66,
   "metadata": {},
   "outputs": [],
   "source": [
    "cov = np.cov(X.T)"
   ]
  },
  {
   "cell_type": "code",
   "execution_count": 67,
   "metadata": {},
   "outputs": [
    {
     "data": {
      "text/plain": [
       "(array([1.18627439, 0.94743277, 0.81150117]),\n",
       " array([[ 0.47684345, -0.86874752, -0.13378369],\n",
       "        [-0.20413505,  0.03858926, -0.97818186],\n",
       "        [-0.85495568, -0.49374955,  0.15894078]]))"
      ]
     },
     "execution_count": 67,
     "metadata": {},
     "output_type": "execute_result"
    }
   ],
   "source": [
    "np.linalg.eig(cov)"
   ]
  },
  {
   "cell_type": "code",
   "execution_count": 68,
   "metadata": {},
   "outputs": [
    {
     "data": {
      "text/plain": [
       "(array([0.81150117, 0.94743277, 1.18627439]),\n",
       " array([[-0.13378369,  0.86874752, -0.47684345],\n",
       "        [-0.97818186, -0.03858926,  0.20413505],\n",
       "        [ 0.15894078,  0.49374955,  0.85495568]]))"
      ]
     },
     "execution_count": 68,
     "metadata": {},
     "output_type": "execute_result"
    }
   ],
   "source": [
    "np.linalg.eigh(cov)"
   ]
  },
  {
   "cell_type": "markdown",
   "metadata": {},
   "source": [
    "## AX = b"
   ]
  },
  {
   "cell_type": "code",
   "execution_count": 70,
   "metadata": {},
   "outputs": [],
   "source": [
    "A = np.array([[1,2], [3,4]])"
   ]
  },
  {
   "cell_type": "code",
   "execution_count": 71,
   "metadata": {},
   "outputs": [],
   "source": [
    "b = np.array([3,4])"
   ]
  },
  {
   "cell_type": "code",
   "execution_count": 72,
   "metadata": {},
   "outputs": [],
   "source": [
    "x = np.linalg.inv(A).dot(b)"
   ]
  },
  {
   "cell_type": "code",
   "execution_count": 73,
   "metadata": {},
   "outputs": [
    {
     "data": {
      "text/plain": [
       "array([-2. ,  2.5])"
      ]
     },
     "execution_count": 73,
     "metadata": {},
     "output_type": "execute_result"
    }
   ],
   "source": [
    "x"
   ]
  },
  {
   "cell_type": "code",
   "execution_count": 74,
   "metadata": {},
   "outputs": [],
   "source": [
    "x = np.linalg.solve(A, b)"
   ]
  },
  {
   "cell_type": "code",
   "execution_count": 75,
   "metadata": {},
   "outputs": [
    {
     "data": {
      "text/plain": [
       "array([-2. ,  2.5])"
      ]
     },
     "execution_count": 75,
     "metadata": {},
     "output_type": "execute_result"
    }
   ],
   "source": [
    "x"
   ]
  },
  {
   "cell_type": "markdown",
   "metadata": {},
   "source": [
    "# X1 + X2 = 2200 and 1.5X1 + 4X2 = 5050 whats the value of x1 and x2"
   ]
  },
  {
   "cell_type": "code",
   "execution_count": 79,
   "metadata": {},
   "outputs": [
    {
     "data": {
      "text/plain": [
       "array([1500.,  700.])"
      ]
     },
     "execution_count": 79,
     "metadata": {},
     "output_type": "execute_result"
    }
   ],
   "source": [
    "np.linalg.solve(np.array([[1,1],[1.5, 4]]), np.array([2200, 5050]))"
   ]
  },
  {
   "cell_type": "code",
   "execution_count": null,
   "metadata": {},
   "outputs": [],
   "source": []
  }
 ],
 "metadata": {
  "kernelspec": {
   "display_name": "Python 3",
   "language": "python",
   "name": "python3"
  },
  "language_info": {
   "codemirror_mode": {
    "name": "ipython",
    "version": 3
   },
   "file_extension": ".py",
   "mimetype": "text/x-python",
   "name": "python",
   "nbconvert_exporter": "python",
   "pygments_lexer": "ipython3",
   "version": "3.7.3"
  }
 },
 "nbformat": 4,
 "nbformat_minor": 2
}
