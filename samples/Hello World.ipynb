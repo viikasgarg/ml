{
 "cells": [
  {
   "cell_type": "code",
   "execution_count": 2,
   "metadata": {},
   "outputs": [
    {
     "name": "stdout",
     "output_type": "stream",
     "text": [
      "Hello Garg\n"
     ]
    }
   ],
   "source": [
    "print(\"Hello Garg\")"
   ]
  },
  {
   "cell_type": "code",
   "execution_count": 3,
   "metadata": {},
   "outputs": [],
   "source": [
    "import pandas"
   ]
  },
  {
   "cell_type": "code",
   "execution_count": 4,
   "metadata": {},
   "outputs": [
    {
     "name": "stdout",
     "output_type": "stream",
     "text": [
      "Package            Version\n",
      "------------------ -------\n",
      "backcall           0.1.0  \n",
      "bleach             3.0.2  \n",
      "colorama           0.4.1  \n",
      "decorator          4.3.0  \n",
      "defusedxml         0.5.0  \n",
      "entrypoints        0.2.3  \n",
      "ipykernel          5.1.0  \n",
      "ipyparallel        6.2.3  \n",
      "ipython            7.2.0  \n",
      "ipython-genutils   0.2.0  \n",
      "ipywidgets         7.4.2  \n",
      "jedi               0.13.2 \n",
      "Jinja2             2.10   \n",
      "jsonschema         2.6.0  \n",
      "jupyter            1.0.0  \n",
      "jupyter-client     5.2.4  \n",
      "jupyter-console    6.0.0  \n",
      "jupyter-core       4.4.0  \n",
      "MarkupSafe         1.1.0  \n",
      "mistune            0.8.4  \n",
      "nbconvert          5.4.0  \n",
      "nbformat           4.4.0  \n",
      "notebook           5.7.4  \n",
      "numpy              1.15.4 \n",
      "pandas             0.23.4 \n",
      "pandocfilters      1.4.2  \n",
      "parso              0.3.1  \n",
      "pickleshare        0.7.5  \n",
      "pip                18.1   \n",
      "prometheus-client  0.5.0  \n",
      "prompt-toolkit     2.0.7  \n",
      "Pygments           2.3.1  \n",
      "python-dateutil    2.7.5  \n",
      "pytz               2018.7 \n",
      "pywinpty           0.5.5  \n",
      "pyzmq              17.1.2 \n",
      "qtconsole          4.4.3  \n",
      "Send2Trash         1.5.0  \n",
      "setuptools         39.0.1 \n",
      "six                1.12.0 \n",
      "terminado          0.8.1  \n",
      "testpath           0.4.2  \n",
      "tornado            5.1.1  \n",
      "traitlets          4.3.2  \n",
      "wcwidth            0.1.7  \n",
      "webencodings       0.5.1  \n",
      "widgetsnbextension 3.4.2  \n"
     ]
    }
   ],
   "source": [
    "!pip list"
   ]
  },
  {
   "cell_type": "code",
   "execution_count": 5,
   "metadata": {
    "scrolled": true
   },
   "outputs": [
    {
     "name": "stdout",
     "output_type": "stream",
     "text": [
      "Requirement already up-to-date: pip in c:\\users\\vk00497990\\desktop\\personal\\r&d\\ai\\ml\\venv\\lib\\site-packages (18.1)\n"
     ]
    }
   ],
   "source": [
    "!python -m pip install --upgrade pip"
   ]
  },
  {
   "cell_type": "code",
   "execution_count": null,
   "metadata": {},
   "outputs": [],
   "source": [
    "!python -m pip install pandas"
   ]
  },
  {
   "cell_type": "code",
   "execution_count": 6,
   "metadata": {},
   "outputs": [],
   "source": [
    "import pandas"
   ]
  },
  {
   "cell_type": "code",
   "execution_count": null,
   "metadata": {},
   "outputs": [],
   "source": []
  },
  {
   "cell_type": "code",
   "execution_count": null,
   "metadata": {},
   "outputs": [],
   "source": []
  },
  {
   "cell_type": "code",
   "execution_count": null,
   "metadata": {},
   "outputs": [],
   "source": []
  }
 ],
 "metadata": {
  "kernelspec": {
   "display_name": "Python 3",
   "language": "python",
   "name": "python3"
  },
  "language_info": {
   "codemirror_mode": {
    "name": "ipython",
    "version": 3
   },
   "file_extension": ".py",
   "mimetype": "text/x-python",
   "name": "python",
   "nbconvert_exporter": "python",
   "pygments_lexer": "ipython3",
   "version": "3.6.6"
  }
 },
 "nbformat": 4,
 "nbformat_minor": 2
}
